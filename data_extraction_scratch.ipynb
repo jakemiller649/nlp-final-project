{
 "cells": [
  {
   "cell_type": "code",
   "execution_count": 1,
   "metadata": {},
   "outputs": [],
   "source": [
    "import os\n",
    "import xml.etree.ElementTree as ET\n",
    "import re\n",
    "import numpy as np\n",
    "import pandas as pd\n",
    "from importlib import reload"
   ]
  },
  {
   "cell_type": "code",
   "execution_count": null,
   "metadata": {},
   "outputs": [],
   "source": []
  },
  {
   "cell_type": "code",
   "execution_count": 10,
   "metadata": {},
   "outputs": [],
   "source": [
    "with open(\"data/words/ES2014d.A.words.xml\") as infile:\n",
    "    tree = ET.parse(infile)\n",
    "    root = tree.getroot()"
   ]
  },
  {
   "cell_type": "code",
   "execution_count": 30,
   "metadata": {},
   "outputs": [
    {
     "data": {
      "text/plain": [
       "'w'"
      ]
     },
     "execution_count": 30,
     "metadata": {},
     "output_type": "execute_result"
    }
   ],
   "source": [
    "root[3641].tag"
   ]
  },
  {
   "cell_type": "code",
   "execution_count": 23,
   "metadata": {},
   "outputs": [
    {
     "data": {
      "text/plain": [
       "'da-types.xml#id(ami_da_4)'"
      ]
     },
     "execution_count": 23,
     "metadata": {},
     "output_type": "execute_result"
    }
   ],
   "source": [
    "root[0][0].attrib['href']"
   ]
  },
  {
   "cell_type": "code",
   "execution_count": 25,
   "metadata": {},
   "outputs": [],
   "source": [
    "filedir = os.getcwd() + \"\\\\data\\\\dialogueActs\"\n",
    "\n",
    "das = {\"convo\":[], \"da_type\":[], \"start\":[], \"end\":[], \"utterance_len\":[]}\n",
    "\n",
    "for file in os.listdir(filedir):\n",
    "    if file.endswith(\"dialog-act.xml\"):\n",
    "        \n",
    "        # open file\n",
    "        with open(filedir + \"\\\\\" + file) as infile:\n",
    "            \n",
    "            # parse xml\n",
    "            tree = ET.parse(infile)\n",
    "            root = tree.getroot()\n",
    "        \n",
    "        for leaf in root:\n",
    "            \n",
    "            das['convo'].append(file.replace(\".dialog-act.xml\", \"\"))\n",
    "\n",
    "            if len(leaf) == 2:\n",
    "                # the da type is a string, the digit always at the end\n",
    "                das['da_type'].append( int(re.findall(r'[0-9]{1,2}', leaf[0].attrib['href'])[-1]))\n",
    "                b = 1\n",
    "            else:\n",
    "                das['da_type'].append(np.NaN)\n",
    "                b = 0\n",
    "\n",
    "            # note start and end points\n",
    "            if \"..\" in leaf[b].attrib['href']:\n",
    "                start, end = leaf[b].attrib['href'].split(\"..\")\n",
    "                s = re.search(r'words[0-9]{1,4}', start)\n",
    "                e = re.search(r'words[0-9]{1,4}', end)\n",
    "\n",
    "\n",
    "                das['start'].append(int(s[0][5:]))\n",
    "                das['end'].append(int(e[0][5:]))\n",
    "                \n",
    "                das['utterance_len'].append(1 + int(e[0][5:]) - int(s[0][5:]))\n",
    "\n",
    "            else:\n",
    "                start = leaf[b].attrib['href']\n",
    "                s = re.search(r'words[0-9]{1,4}', start)\n",
    "\n",
    "                # start and end are the same\n",
    "                das['start'].append(int(s[0][5:]))\n",
    "                das['end'].append(int(s[0][5:]))\n",
    "                das['utterance_len'].append(1)\n",
    "            \n",
    "            \n",
    "            \n",
    "        \n",
    "        # then, look up those utterances in the convo and just add those as a separate column\n",
    "        # utterance start and end times, duration"
   ]
  },
  {
   "cell_type": "code",
   "execution_count": 26,
   "metadata": {},
   "outputs": [],
   "source": [
    "tbl = pd.DataFrame(das)"
   ]
  },
  {
   "cell_type": "code",
   "execution_count": 21,
   "metadata": {},
   "outputs": [
    {
     "data": {
      "text/html": [
       "<div>\n",
       "<style scoped>\n",
       "    .dataframe tbody tr th:only-of-type {\n",
       "        vertical-align: middle;\n",
       "    }\n",
       "\n",
       "    .dataframe tbody tr th {\n",
       "        vertical-align: top;\n",
       "    }\n",
       "\n",
       "    .dataframe thead th {\n",
       "        text-align: right;\n",
       "    }\n",
       "</style>\n",
       "<table border=\"1\" class=\"dataframe\">\n",
       "  <thead>\n",
       "    <tr style=\"text-align: right;\">\n",
       "      <th></th>\n",
       "      <th>da_type</th>\n",
       "      <th>start</th>\n",
       "      <th>end</th>\n",
       "      <th>utterance_len</th>\n",
       "    </tr>\n",
       "  </thead>\n",
       "  <tbody>\n",
       "    <tr>\n",
       "      <th>count</th>\n",
       "      <td>117887.000000</td>\n",
       "      <td>117915.000000</td>\n",
       "      <td>117915.000000</td>\n",
       "      <td>117915.000000</td>\n",
       "    </tr>\n",
       "    <tr>\n",
       "      <th>mean</th>\n",
       "      <td>4.497612</td>\n",
       "      <td>986.310961</td>\n",
       "      <td>992.446720</td>\n",
       "      <td>7.135759</td>\n",
       "    </tr>\n",
       "    <tr>\n",
       "      <th>std</th>\n",
       "      <td>2.563817</td>\n",
       "      <td>779.334150</td>\n",
       "      <td>779.419908</td>\n",
       "      <td>6.678859</td>\n",
       "    </tr>\n",
       "    <tr>\n",
       "      <th>min</th>\n",
       "      <td>1.000000</td>\n",
       "      <td>0.000000</td>\n",
       "      <td>0.000000</td>\n",
       "      <td>1.000000</td>\n",
       "    </tr>\n",
       "    <tr>\n",
       "      <th>25%</th>\n",
       "      <td>3.000000</td>\n",
       "      <td>370.000000</td>\n",
       "      <td>376.000000</td>\n",
       "      <td>2.000000</td>\n",
       "    </tr>\n",
       "    <tr>\n",
       "      <th>50%</th>\n",
       "      <td>4.000000</td>\n",
       "      <td>842.000000</td>\n",
       "      <td>848.000000</td>\n",
       "      <td>5.000000</td>\n",
       "    </tr>\n",
       "    <tr>\n",
       "      <th>75%</th>\n",
       "      <td>6.000000</td>\n",
       "      <td>1424.000000</td>\n",
       "      <td>1430.000000</td>\n",
       "      <td>10.000000</td>\n",
       "    </tr>\n",
       "    <tr>\n",
       "      <th>max</th>\n",
       "      <td>9.000000</td>\n",
       "      <td>5157.000000</td>\n",
       "      <td>5157.000000</td>\n",
       "      <td>87.000000</td>\n",
       "    </tr>\n",
       "  </tbody>\n",
       "</table>\n",
       "</div>"
      ],
      "text/plain": [
       "             da_type          start            end  utterance_len\n",
       "count  117887.000000  117915.000000  117915.000000  117915.000000\n",
       "mean        4.497612     986.310961     992.446720       7.135759\n",
       "std         2.563817     779.334150     779.419908       6.678859\n",
       "min         1.000000       0.000000       0.000000       1.000000\n",
       "25%         3.000000     370.000000     376.000000       2.000000\n",
       "50%         4.000000     842.000000     848.000000       5.000000\n",
       "75%         6.000000    1424.000000    1430.000000      10.000000\n",
       "max         9.000000    5157.000000    5157.000000      87.000000"
      ]
     },
     "execution_count": 21,
     "metadata": {},
     "output_type": "execute_result"
    }
   ],
   "source": [
    "tbl.describe()"
   ]
  },
  {
   "cell_type": "code",
   "execution_count": 18,
   "metadata": {},
   "outputs": [
    {
     "data": {
      "text/plain": [
       "87"
      ]
     },
     "execution_count": 18,
     "metadata": {},
     "output_type": "execute_result"
    }
   ],
   "source": [
    "max(tbl['utterance_len'])"
   ]
  },
  {
   "cell_type": "code",
   "execution_count": 19,
   "metadata": {},
   "outputs": [
    {
     "data": {
      "text/plain": [
       "5157"
      ]
     },
     "execution_count": 19,
     "metadata": {},
     "output_type": "execute_result"
    }
   ],
   "source": [
    "max(tbl['end'])"
   ]
  },
  {
   "cell_type": "code",
   "execution_count": 20,
   "metadata": {},
   "outputs": [
    {
     "data": {
      "text/html": [
       "<div>\n",
       "<style scoped>\n",
       "    .dataframe tbody tr th:only-of-type {\n",
       "        vertical-align: middle;\n",
       "    }\n",
       "\n",
       "    .dataframe tbody tr th {\n",
       "        vertical-align: top;\n",
       "    }\n",
       "\n",
       "    .dataframe thead th {\n",
       "        text-align: right;\n",
       "    }\n",
       "</style>\n",
       "<table border=\"1\" class=\"dataframe\">\n",
       "  <thead>\n",
       "    <tr style=\"text-align: right;\">\n",
       "      <th></th>\n",
       "      <th>convo</th>\n",
       "      <th>da_type</th>\n",
       "      <th>start</th>\n",
       "      <th>end</th>\n",
       "      <th>utterance_len</th>\n",
       "    </tr>\n",
       "  </thead>\n",
       "  <tbody>\n",
       "  </tbody>\n",
       "</table>\n",
       "</div>"
      ],
      "text/plain": [
       "Empty DataFrame\n",
       "Columns: [convo, da_type, start, end, utterance_len]\n",
       "Index: []"
      ]
     },
     "execution_count": 20,
     "metadata": {},
     "output_type": "execute_result"
    }
   ],
   "source": [
    "tbl[tbl.utterance_len < 0]"
   ]
  },
  {
   "cell_type": "code",
   "execution_count": 22,
   "metadata": {},
   "outputs": [
    {
     "data": {
      "text/plain": [
       "count        117915\n",
       "unique          556\n",
       "top       TS3005d.B\n",
       "freq            742\n",
       "Name: convo, dtype: object"
      ]
     },
     "execution_count": 22,
     "metadata": {},
     "output_type": "execute_result"
    }
   ],
   "source": [
    "tbl['convo'].describe()"
   ]
  },
  {
   "cell_type": "code",
   "execution_count": 23,
   "metadata": {},
   "outputs": [
    {
     "data": {
      "text/html": [
       "<div>\n",
       "<style scoped>\n",
       "    .dataframe tbody tr th:only-of-type {\n",
       "        vertical-align: middle;\n",
       "    }\n",
       "\n",
       "    .dataframe tbody tr th {\n",
       "        vertical-align: top;\n",
       "    }\n",
       "\n",
       "    .dataframe thead th {\n",
       "        text-align: right;\n",
       "    }\n",
       "</style>\n",
       "<table border=\"1\" class=\"dataframe\">\n",
       "  <thead>\n",
       "    <tr style=\"text-align: right;\">\n",
       "      <th></th>\n",
       "      <th>convo</th>\n",
       "      <th>da_type</th>\n",
       "      <th>start</th>\n",
       "      <th>end</th>\n",
       "      <th>utterance_len</th>\n",
       "    </tr>\n",
       "  </thead>\n",
       "  <tbody>\n",
       "    <tr>\n",
       "      <th>350</th>\n",
       "      <td>ES2002a.D</td>\n",
       "      <td>NaN</td>\n",
       "      <td>303</td>\n",
       "      <td>304</td>\n",
       "      <td>2</td>\n",
       "    </tr>\n",
       "    <tr>\n",
       "      <th>6062</th>\n",
       "      <td>ES2003d.B</td>\n",
       "      <td>NaN</td>\n",
       "      <td>1321</td>\n",
       "      <td>1322</td>\n",
       "      <td>2</td>\n",
       "    </tr>\n",
       "    <tr>\n",
       "      <th>7386</th>\n",
       "      <td>ES2004b.B</td>\n",
       "      <td>NaN</td>\n",
       "      <td>260</td>\n",
       "      <td>267</td>\n",
       "      <td>8</td>\n",
       "    </tr>\n",
       "    <tr>\n",
       "      <th>13538</th>\n",
       "      <td>ES2006a.B</td>\n",
       "      <td>NaN</td>\n",
       "      <td>397</td>\n",
       "      <td>405</td>\n",
       "      <td>9</td>\n",
       "    </tr>\n",
       "    <tr>\n",
       "      <th>14425</th>\n",
       "      <td>ES2006b.C</td>\n",
       "      <td>NaN</td>\n",
       "      <td>991</td>\n",
       "      <td>992</td>\n",
       "      <td>2</td>\n",
       "    </tr>\n",
       "    <tr>\n",
       "      <th>16159</th>\n",
       "      <td>ES2006d.B</td>\n",
       "      <td>NaN</td>\n",
       "      <td>1291</td>\n",
       "      <td>1297</td>\n",
       "      <td>7</td>\n",
       "    </tr>\n",
       "    <tr>\n",
       "      <th>30058</th>\n",
       "      <td>ES2011b.C</td>\n",
       "      <td>NaN</td>\n",
       "      <td>19</td>\n",
       "      <td>20</td>\n",
       "      <td>2</td>\n",
       "    </tr>\n",
       "    <tr>\n",
       "      <th>39372</th>\n",
       "      <td>ES2014c.C</td>\n",
       "      <td>NaN</td>\n",
       "      <td>1409</td>\n",
       "      <td>1423</td>\n",
       "      <td>15</td>\n",
       "    </tr>\n",
       "    <tr>\n",
       "      <th>40635</th>\n",
       "      <td>ES2014d.D</td>\n",
       "      <td>NaN</td>\n",
       "      <td>1463</td>\n",
       "      <td>1466</td>\n",
       "      <td>4</td>\n",
       "    </tr>\n",
       "    <tr>\n",
       "      <th>40769</th>\n",
       "      <td>ES2014d.D</td>\n",
       "      <td>NaN</td>\n",
       "      <td>2429</td>\n",
       "      <td>2439</td>\n",
       "      <td>11</td>\n",
       "    </tr>\n",
       "    <tr>\n",
       "      <th>41075</th>\n",
       "      <td>ES2015a.B</td>\n",
       "      <td>NaN</td>\n",
       "      <td>400</td>\n",
       "      <td>401</td>\n",
       "      <td>2</td>\n",
       "    </tr>\n",
       "    <tr>\n",
       "      <th>41924</th>\n",
       "      <td>ES2015b.C</td>\n",
       "      <td>NaN</td>\n",
       "      <td>451</td>\n",
       "      <td>452</td>\n",
       "      <td>2</td>\n",
       "    </tr>\n",
       "    <tr>\n",
       "      <th>42888</th>\n",
       "      <td>ES2015c.B</td>\n",
       "      <td>NaN</td>\n",
       "      <td>2261</td>\n",
       "      <td>2268</td>\n",
       "      <td>8</td>\n",
       "    </tr>\n",
       "    <tr>\n",
       "      <th>47742</th>\n",
       "      <td>IB4003.B</td>\n",
       "      <td>NaN</td>\n",
       "      <td>375</td>\n",
       "      <td>380</td>\n",
       "      <td>6</td>\n",
       "    </tr>\n",
       "    <tr>\n",
       "      <th>58592</th>\n",
       "      <td>IS1003c.D</td>\n",
       "      <td>NaN</td>\n",
       "      <td>538</td>\n",
       "      <td>544</td>\n",
       "      <td>7</td>\n",
       "    </tr>\n",
       "    <tr>\n",
       "      <th>59205</th>\n",
       "      <td>IS1003d.B</td>\n",
       "      <td>NaN</td>\n",
       "      <td>1249</td>\n",
       "      <td>1251</td>\n",
       "      <td>3</td>\n",
       "    </tr>\n",
       "    <tr>\n",
       "      <th>59206</th>\n",
       "      <td>IS1003d.B</td>\n",
       "      <td>NaN</td>\n",
       "      <td>1252</td>\n",
       "      <td>1255</td>\n",
       "      <td>4</td>\n",
       "    </tr>\n",
       "    <tr>\n",
       "      <th>59816</th>\n",
       "      <td>IS1003d.D</td>\n",
       "      <td>NaN</td>\n",
       "      <td>991</td>\n",
       "      <td>992</td>\n",
       "      <td>2</td>\n",
       "    </tr>\n",
       "    <tr>\n",
       "      <th>68474</th>\n",
       "      <td>IS1007a.D</td>\n",
       "      <td>NaN</td>\n",
       "      <td>373</td>\n",
       "      <td>376</td>\n",
       "      <td>4</td>\n",
       "    </tr>\n",
       "    <tr>\n",
       "      <th>70056</th>\n",
       "      <td>IS1007d.B</td>\n",
       "      <td>NaN</td>\n",
       "      <td>1287</td>\n",
       "      <td>1288</td>\n",
       "      <td>2</td>\n",
       "    </tr>\n",
       "    <tr>\n",
       "      <th>70452</th>\n",
       "      <td>IS1007d.D</td>\n",
       "      <td>NaN</td>\n",
       "      <td>196</td>\n",
       "      <td>196</td>\n",
       "      <td>1</td>\n",
       "    </tr>\n",
       "    <tr>\n",
       "      <th>72855</th>\n",
       "      <td>IS1009a.B</td>\n",
       "      <td>NaN</td>\n",
       "      <td>200</td>\n",
       "      <td>203</td>\n",
       "      <td>4</td>\n",
       "    </tr>\n",
       "    <tr>\n",
       "      <th>72928</th>\n",
       "      <td>IS1009a.C</td>\n",
       "      <td>NaN</td>\n",
       "      <td>223</td>\n",
       "      <td>224</td>\n",
       "      <td>2</td>\n",
       "    </tr>\n",
       "    <tr>\n",
       "      <th>76417</th>\n",
       "      <td>TS3003c.A</td>\n",
       "      <td>NaN</td>\n",
       "      <td>284</td>\n",
       "      <td>292</td>\n",
       "      <td>9</td>\n",
       "    </tr>\n",
       "    <tr>\n",
       "      <th>91013</th>\n",
       "      <td>TS3006c.C</td>\n",
       "      <td>NaN</td>\n",
       "      <td>167</td>\n",
       "      <td>168</td>\n",
       "      <td>2</td>\n",
       "    </tr>\n",
       "    <tr>\n",
       "      <th>91931</th>\n",
       "      <td>TS3006d.A</td>\n",
       "      <td>NaN</td>\n",
       "      <td>1103</td>\n",
       "      <td>1103</td>\n",
       "      <td>1</td>\n",
       "    </tr>\n",
       "    <tr>\n",
       "      <th>100169</th>\n",
       "      <td>TS3008c.C</td>\n",
       "      <td>NaN</td>\n",
       "      <td>812</td>\n",
       "      <td>812</td>\n",
       "      <td>1</td>\n",
       "    </tr>\n",
       "    <tr>\n",
       "      <th>105006</th>\n",
       "      <td>TS3009c.C</td>\n",
       "      <td>NaN</td>\n",
       "      <td>1630</td>\n",
       "      <td>1639</td>\n",
       "      <td>10</td>\n",
       "    </tr>\n",
       "  </tbody>\n",
       "</table>\n",
       "</div>"
      ],
      "text/plain": [
       "            convo da_type  start   end  utterance_len\n",
       "350     ES2002a.D     NaN    303   304              2\n",
       "6062    ES2003d.B     NaN   1321  1322              2\n",
       "7386    ES2004b.B     NaN    260   267              8\n",
       "13538   ES2006a.B     NaN    397   405              9\n",
       "14425   ES2006b.C     NaN    991   992              2\n",
       "16159   ES2006d.B     NaN   1291  1297              7\n",
       "30058   ES2011b.C     NaN     19    20              2\n",
       "39372   ES2014c.C     NaN   1409  1423             15\n",
       "40635   ES2014d.D     NaN   1463  1466              4\n",
       "40769   ES2014d.D     NaN   2429  2439             11\n",
       "41075   ES2015a.B     NaN    400   401              2\n",
       "41924   ES2015b.C     NaN    451   452              2\n",
       "42888   ES2015c.B     NaN   2261  2268              8\n",
       "47742    IB4003.B     NaN    375   380              6\n",
       "58592   IS1003c.D     NaN    538   544              7\n",
       "59205   IS1003d.B     NaN   1249  1251              3\n",
       "59206   IS1003d.B     NaN   1252  1255              4\n",
       "59816   IS1003d.D     NaN    991   992              2\n",
       "68474   IS1007a.D     NaN    373   376              4\n",
       "70056   IS1007d.B     NaN   1287  1288              2\n",
       "70452   IS1007d.D     NaN    196   196              1\n",
       "72855   IS1009a.B     NaN    200   203              4\n",
       "72928   IS1009a.C     NaN    223   224              2\n",
       "76417   TS3003c.A     NaN    284   292              9\n",
       "91013   TS3006c.C     NaN    167   168              2\n",
       "91931   TS3006d.A     NaN   1103  1103              1\n",
       "100169  TS3008c.C     NaN    812   812              1\n",
       "105006  TS3009c.C     NaN   1630  1639             10"
      ]
     },
     "execution_count": 23,
     "metadata": {},
     "output_type": "execute_result"
    }
   ],
   "source": [
    "tbl[tbl.da_type.isna()]"
   ]
  },
  {
   "cell_type": "code",
   "execution_count": 27,
   "metadata": {},
   "outputs": [
    {
     "data": {
      "text/plain": [
       "count    117887.000000\n",
       "mean          5.289642\n",
       "std           3.442923\n",
       "min           1.000000\n",
       "25%           3.000000\n",
       "50%           4.000000\n",
       "75%           9.000000\n",
       "max          16.000000\n",
       "Name: da_type, dtype: float64"
      ]
     },
     "execution_count": 27,
     "metadata": {},
     "output_type": "execute_result"
    }
   ],
   "source": [
    "tbl.da_type.describe()"
   ]
  },
  {
   "cell_type": "markdown",
   "metadata": {},
   "source": [
    "## utils testing"
   ]
  },
  {
   "cell_type": "code",
   "execution_count": 5,
   "metadata": {},
   "outputs": [
    {
     "name": "stderr",
     "output_type": "stream",
     "text": [
      "Using TensorFlow backend.\n"
     ]
    }
   ],
   "source": [
    "import utils"
   ]
  },
  {
   "cell_type": "code",
   "execution_count": 53,
   "metadata": {},
   "outputs": [
    {
     "name": "stdout",
     "output_type": "stream",
     "text": [
      "Loading corpus from C:\\Users\\jakem\\Documents\\w266\\nlp-final-project\\data\n",
      "Begin corpus post-processing ...\n",
      "Splitting corpus into training and test ...\n",
      "Creating vocabulary from training set ...\n",
      "Found 9042 unique words.\n",
      "Building initial embedding matrix ...\n"
     ]
    }
   ],
   "source": [
    "reload(utils)\n",
    "\n",
    "corpus = utils.AMI_Corpus(seed=42, embed_vec = \"lexvec\")"
   ]
  },
  {
   "cell_type": "code",
   "execution_count": 54,
   "metadata": {},
   "outputs": [
    {
     "data": {
      "text/plain": [
       "165"
      ]
     },
     "execution_count": 54,
     "metadata": {},
     "output_type": "execute_result"
    }
   ],
   "source": [
    "len(corpus.unfound_words)"
   ]
  },
  {
   "cell_type": "code",
   "execution_count": 55,
   "metadata": {},
   "outputs": [
    {
     "data": {
      "text/plain": [
       "['<unk>',\n",
       " '<eos>',\n",
       " ',',\n",
       " \"'s\",\n",
       " \"'kay\",\n",
       " \"'em\",\n",
       " '',\n",
       " \"there're\",\n",
       " '..',\n",
       " \"'til\",\n",
       " \"'bout\",\n",
       " \"years'\",\n",
       " \"'ve\",\n",
       " 'presu',\n",
       " 'mielsen',\n",
       " \"c'est\",\n",
       " \"'fraid\",\n",
       " \"don'\",\n",
       " \"components'\",\n",
       " 'telete',\n",
       " 'prevon',\n",
       " 'mangoey',\n",
       " 'upsidaisy',\n",
       " \"users'\",\n",
       " \"its'\",\n",
       " 'twendag',\n",
       " \"'specially\",\n",
       " \"people've\",\n",
       " 'wiezer',\n",
       " 'penlites',\n",
       " 'confog',\n",
       " 'betenberg',\n",
       " 'scror',\n",
       " 'latexy',\n",
       " 'implepe',\n",
       " 'transti',\n",
       " 'supermando',\n",
       " 'kemoro',\n",
       " 'gogors',\n",
       " 'gadgetness',\n",
       " 'shrida',\n",
       " 'daseri',\n",
       " 'therapeuticising',\n",
       " \"ya'\",\n",
       " \"that've\",\n",
       " 'nologically',\n",
       " \"important,'cause\",\n",
       " 'vegetabley',\n",
       " 'etpfl',\n",
       " \"don'ts\",\n",
       " 'medsa',\n",
       " 'twoft',\n",
       " 'acquai',\n",
       " 'powerpointy',\n",
       " 'tunnely',\n",
       " 'bumblebeeish',\n",
       " 'innovativity',\n",
       " 'exave',\n",
       " \"'member\",\n",
       " 'symmet',\n",
       " 'glowingness',\n",
       " 'stratig',\n",
       " 'incrat',\n",
       " \"an'\",\n",
       " 'ponnen',\n",
       " 'spongiest',\n",
       " 'meinfeld',\n",
       " 'right?.',\n",
       " 'remultific',\n",
       " 'influations',\n",
       " 'interopera',\n",
       " 'interoperabi',\n",
       " 'sidewords',\n",
       " 'similarit',\n",
       " 'pushbut',\n",
       " \"people'd\",\n",
       " 'ramaro',\n",
       " 'rubberness',\n",
       " 'recognability',\n",
       " \"peoples'\",\n",
       " 'repetitivity',\n",
       " 'accentu',\n",
       " \"kids'\",\n",
       " 'newsfla',\n",
       " 'tentel',\n",
       " 'immedis',\n",
       " 'neededs',\n",
       " 'penultim',\n",
       " 'iradium',\n",
       " 'colourfuls',\n",
       " 'projoct',\n",
       " \"'scuse\",\n",
       " 'preferences,yeah',\n",
       " 'practicalit',\n",
       " 'indevel',\n",
       " 'industrati',\n",
       " 'fruitist',\n",
       " \"what'd\",\n",
       " '...',\n",
       " 'ademesoye']"
      ]
     },
     "execution_count": 55,
     "metadata": {},
     "output_type": "execute_result"
    }
   ],
   "source": [
    "corpus.unfound_words[:100]"
   ]
  },
  {
   "cell_type": "code",
   "execution_count": 11,
   "metadata": {},
   "outputs": [],
   "source": [
    "%matplotlib inline\n",
    "from matplotlib import pyplot as plt"
   ]
  },
  {
   "cell_type": "code",
   "execution_count": 12,
   "metadata": {},
   "outputs": [
    {
     "data": {
      "text/plain": [
       "(array([ 78., 137., 138., 100.,  59.,  27.,  12.,   0.,   2.,   3.]),\n",
       " array([ 21. ,  93.1, 165.2, 237.3, 309.4, 381.5, 453.6, 525.7, 597.8,\n",
       "        669.9, 742. ]),\n",
       " <a list of 10 Patch objects>)"
      ]
     },
     "execution_count": 12,
     "metadata": {},
     "output_type": "execute_result"
    },
    {
     "data": {
      "image/png": "[encoded data removed]",
      "text/plain": [
       "<Figure size 432x288 with 1 Axes>"
      ]
     },
     "metadata": {
      "needs_background": "light"
     },
     "output_type": "display_data"
    }
   ],
   "source": [
    "plt.hist(corpus.conversation_lengths)"
   ]
  },
  {
   "cell_type": "code",
   "execution_count": 13,
   "metadata": {},
   "outputs": [
    {
     "data": {
      "text/plain": [
       "742"
      ]
     },
     "execution_count": 13,
     "metadata": {},
     "output_type": "execute_result"
    }
   ],
   "source": [
    "corpus.max_conversation_length"
   ]
  },
  {
   "cell_type": "code",
   "execution_count": 14,
   "metadata": {},
   "outputs": [
    {
     "data": {
      "text/plain": [
       "87"
      ]
     },
     "execution_count": 14,
     "metadata": {},
     "output_type": "execute_result"
    }
   ],
   "source": [
    "corpus.max_utterance_length"
   ]
  },
  {
   "cell_type": "code",
   "execution_count": 15,
   "metadata": {},
   "outputs": [
    {
     "data": {
      "text/plain": [
       "(array([8.6845e+04, 2.3042e+04, 5.6490e+03, 1.8040e+03, 4.2200e+02,\n",
       "        1.1900e+02, 2.2000e+01, 7.0000e+00, 4.0000e+00, 1.0000e+00]),\n",
       " array([ 1. ,  9.6, 18.2, 26.8, 35.4, 44. , 52.6, 61.2, 69.8, 78.4, 87. ]),\n",
       " <a list of 10 Patch objects>)"
      ]
     },
     "execution_count": 15,
     "metadata": {},
     "output_type": "execute_result"
    },
    {
     "data": {
      "image/png": "[encoded data removed]",
      "text/plain": [
       "<Figure size 432x288 with 1 Axes>"
      ]
     },
     "metadata": {
      "needs_background": "light"
     },
     "output_type": "display_data"
    }
   ],
   "source": [
    "plt.hist(corpus.utterance_lengths)"
   ]
  },
  {
   "cell_type": "code",
   "execution_count": 21,
   "metadata": {},
   "outputs": [
    {
     "data": {
      "text/plain": [
       "31.0"
      ]
     },
     "execution_count": 21,
     "metadata": {},
     "output_type": "execute_result"
    }
   ],
   "source": [
    "np.percentile(corpus.utterance_lengths, 99)"
   ]
  },
  {
   "cell_type": "code",
   "execution_count": 20,
   "metadata": {},
   "outputs": [
    {
     "data": {
      "text/plain": [
       "518.8000000000002"
      ]
     },
     "execution_count": 20,
     "metadata": {},
     "output_type": "execute_result"
    }
   ],
   "source": [
    "np.percentile(corpus.conversation_lengths, 99)"
   ]
  },
  {
   "cell_type": "code",
   "execution_count": 3,
   "metadata": {},
   "outputs": [
    {
     "data": {
      "text/plain": [
       "53"
      ]
     },
     "execution_count": 3,
     "metadata": {},
     "output_type": "execute_result"
    }
   ],
   "source": [
    "from math import floor\n",
    "floor(65*0.83)"
   ]
  },
  {
   "cell_type": "code",
   "execution_count": 42,
   "metadata": {},
   "outputs": [
    {
     "data": {
      "text/plain": [
       "[2, 1, 3]"
      ]
     },
     "execution_count": 42,
     "metadata": {},
     "output_type": "execute_result"
    }
   ],
   "source": [
    "from random import shuffle\n",
    "l = [1,2,3]\n",
    "shuffle(l)\n",
    "l"
   ]
  },
  {
   "cell_type": "code",
   "execution_count": 48,
   "metadata": {},
   "outputs": [],
   "source": [
    "from collections import Counter\n",
    "test = Counter()\n",
    "test[\"jake\"] +=1\n",
    "test[\"jake\"] +=1\n",
    "test[\"jake\"] +=1\n",
    "test[\"diana\"] +=1"
   ]
  },
  {
   "cell_type": "code",
   "execution_count": 50,
   "metadata": {},
   "outputs": [],
   "source": [
    "test2 = Counter()\n",
    "test2[\"jake\"] +=1\n",
    "test2[\"jake\"] +=1\n",
    "test2[\"jake\"] +=1\n",
    "test2[\"diana\"] +=1"
   ]
  },
  {
   "cell_type": "code",
   "execution_count": 51,
   "metadata": {},
   "outputs": [
    {
     "data": {
      "text/plain": [
       "Counter({'jake': 6, 'diana': 2})"
      ]
     },
     "execution_count": 51,
     "metadata": {},
     "output_type": "execute_result"
    }
   ],
   "source": [
    "test + test2"
   ]
  },
  {
   "cell_type": "code",
   "execution_count": 54,
   "metadata": {},
   "outputs": [],
   "source": [
    "test += test2"
   ]
  },
  {
   "cell_type": "code",
   "execution_count": 55,
   "metadata": {},
   "outputs": [
    {
     "data": {
      "text/plain": [
       "Counter({'jake': 9, 'diana': 3})"
      ]
     },
     "execution_count": 55,
     "metadata": {},
     "output_type": "execute_result"
    }
   ],
   "source": [
    "test"
   ]
  },
  {
   "cell_type": "code",
   "execution_count": 8,
   "metadata": {},
   "outputs": [
    {
     "ename": "TypeError",
     "evalue": "unhashable type: 'slice'",
     "output_type": "error",
     "traceback": [
      "\u001b[1;31m---------------------------------------------------------------------------\u001b[0m",
      "\u001b[1;31mTypeError\u001b[0m                                 Traceback (most recent call last)",
      "\u001b[1;32m<ipython-input-8-bf97c04e3114>\u001b[0m in \u001b[0;36m<module>\u001b[1;34m()\u001b[0m\n\u001b[0;32m      1\u001b[0m \u001b[0mt\u001b[0m \u001b[1;33m=\u001b[0m \u001b[1;33m{\u001b[0m\u001b[1;36m1\u001b[0m\u001b[1;33m:\u001b[0m\u001b[1;34m'hi'\u001b[0m\u001b[1;33m,\u001b[0m \u001b[1;36m2\u001b[0m\u001b[1;33m:\u001b[0m\u001b[1;34m'no'\u001b[0m\u001b[1;33m,\u001b[0m \u001b[1;36m3\u001b[0m\u001b[1;33m:\u001b[0m\u001b[1;34m'sdfs'\u001b[0m\u001b[1;33m,\u001b[0m \u001b[1;36m4\u001b[0m\u001b[1;33m:\u001b[0m\u001b[1;34m'sdfsd'\u001b[0m\u001b[1;33m}\u001b[0m\u001b[1;33m\u001b[0m\u001b[0m\n\u001b[1;32m----> 2\u001b[1;33m \u001b[0mt\u001b[0m\u001b[1;33m[\u001b[0m\u001b[1;36m1\u001b[0m\u001b[1;33m:\u001b[0m\u001b[1;36m2\u001b[0m\u001b[1;33m]\u001b[0m\u001b[1;33m\u001b[0m\u001b[0m\n\u001b[0m",
      "\u001b[1;31mTypeError\u001b[0m: unhashable type: 'slice'"
     ]
    }
   ],
   "source": []
  },
  {
   "cell_type": "code",
   "execution_count": null,
   "metadata": {},
   "outputs": [],
   "source": []
  }
 ],
 "metadata": {
  "kernelspec": {
   "display_name": "Python 3",
   "language": "python",
   "name": "python3"
  },
  "language_info": {
   "codemirror_mode": {
    "name": "ipython",
    "version": 3
   },
   "file_extension": ".py",
   "mimetype": "text/x-python",
   "name": "python",
   "nbconvert_exporter": "python",
   "pygments_lexer": "ipython3",
   "version": "3.6.6"
  }
 },
 "nbformat": 4,
 "nbformat_minor": 2
}
