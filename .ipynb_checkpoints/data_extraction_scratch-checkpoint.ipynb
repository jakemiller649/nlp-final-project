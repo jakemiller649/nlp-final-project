{
 "cells": [
  {
   "cell_type": "code",
   "execution_count": 60,
   "metadata": {},
   "outputs": [],
   "source": [
    "import os\n",
    "import xml.etree.ElementTree as ET\n",
    "import re\n",
    "import numpy as np\n",
    "import pandas as pd"
   ]
  },
  {
   "cell_type": "code",
   "execution_count": null,
   "metadata": {},
   "outputs": [],
   "source": [
    "class Word:\n",
    "    \n",
    "    # file\n",
    "    # id\n",
    "    # start time, # end time, because fuck it just in case\n",
    "    # duration\n",
    "    pass\n",
    "\n",
    "class Utterance:\n",
    "    pass\n",
    "\n",
    "\n",
    "class Conv:\n",
    "    pass"
   ]
  },
  {
   "cell_type": "code",
   "execution_count": 34,
   "metadata": {},
   "outputs": [],
   "source": [
    "with open(\"data/dialogueActs/ES2002a.A.dialog-act.xml\") as infile:\n",
    "    tree = ET.parse(infile)\n",
    "    root = tree.getroot()"
   ]
  },
  {
   "cell_type": "code",
   "execution_count": 11,
   "metadata": {},
   "outputs": [
    {
     "data": {
      "text/plain": [
       "48"
      ]
     },
     "execution_count": 11,
     "metadata": {},
     "output_type": "execute_result"
    }
   ],
   "source": [
    "len(root)"
   ]
  },
  {
   "cell_type": "code",
   "execution_count": 23,
   "metadata": {},
   "outputs": [
    {
     "data": {
      "text/plain": [
       "'da-types.xml#id(ami_da_4)'"
      ]
     },
     "execution_count": 23,
     "metadata": {},
     "output_type": "execute_result"
    }
   ],
   "source": [
    "root[0][0].attrib['href']"
   ]
  },
  {
   "cell_type": "code",
   "execution_count": 59,
   "metadata": {},
   "outputs": [],
   "source": [
    "wd = os.getcwd()\n",
    "da_dir = \"\\\\data\\\\dialogueActs\"\n",
    "\n",
    "das = {\"convo\":[], \"da_type\":[], \"start\":[], \"end\":[], \"utterance_len\":[]}\n",
    "\n",
    "for file in os.listdir(wd + da_dir):\n",
    "    if file.endswith(\"dialog-act.xml\"):\n",
    "        \n",
    "        # open file\n",
    "        with open(wd + da_dir + \"\\\\\" + file) as infile:\n",
    "            \n",
    "            # parse xml\n",
    "            tree = ET.parse(infile)\n",
    "            root = tree.getroot()\n",
    "        \n",
    "        for leaf in root:\n",
    "            \n",
    "            das['convo'].append(file.replace(\".dialog-act.xml\", \"\"))\n",
    "\n",
    "            if len(leaf) == 2:\n",
    "                # the da type is a string, the digit always at the end\n",
    "                das['da_type'].append(int(leaf[0].attrib['href'][-2]))\n",
    "                b = 1\n",
    "            else:\n",
    "                das['da_type'].append(np.NaN)\n",
    "                b = 0\n",
    "\n",
    "            # note start and end points\n",
    "            if \"..\" in leaf[b].attrib['href']:\n",
    "                start, end = leaf[b].attrib['href'].split(\"..\")\n",
    "                s = re.search(r'words[0-9]{1,3}', start)\n",
    "                e = re.search(r'words[0-9]{1,3}', end)\n",
    "\n",
    "\n",
    "                das['start'].append(int(s[0][5:]))\n",
    "                das['end'].append(int(e[0][5:]))\n",
    "                \n",
    "                das['utterance_len'].append(1 + int(e[0][5:]) - int(s[0][5:]))\n",
    "\n",
    "            else:\n",
    "                start = leaf[b].attrib['href']\n",
    "                s = re.search(r'words[0-9]{1,3}', start)\n",
    "\n",
    "                # start and end are the same\n",
    "                das['start'].append(int(s[0][5:]))\n",
    "                das['end'].append(int(s[0][5:]))\n",
    "                das['utterance_len'].append(1)\n",
    "            \n",
    "            \n",
    "            \n",
    "        \n",
    "        # then, look up those utterances in the convo and just add those as a separate column\n",
    "        # utterance start and end times, duration"
   ]
  },
  {
   "cell_type": "code",
   "execution_count": 61,
   "metadata": {},
   "outputs": [],
   "source": [
    "tbl = pd.DataFrame(das)"
   ]
  },
  {
   "cell_type": "code",
   "execution_count": 63,
   "metadata": {},
   "outputs": [
    {
     "data": {
      "text/html": [
       "<div>\n",
       "<style scoped>\n",
       "    .dataframe tbody tr th:only-of-type {\n",
       "        vertical-align: middle;\n",
       "    }\n",
       "\n",
       "    .dataframe tbody tr th {\n",
       "        vertical-align: top;\n",
       "    }\n",
       "\n",
       "    .dataframe thead th {\n",
       "        text-align: right;\n",
       "    }\n",
       "</style>\n",
       "<table border=\"1\" class=\"dataframe\">\n",
       "  <thead>\n",
       "    <tr style=\"text-align: right;\">\n",
       "      <th></th>\n",
       "      <th>convo</th>\n",
       "      <th>da_type</th>\n",
       "      <th>start</th>\n",
       "      <th>end</th>\n",
       "      <th>utterance_len</th>\n",
       "    </tr>\n",
       "  </thead>\n",
       "  <tbody>\n",
       "    <tr>\n",
       "      <th>0</th>\n",
       "      <td>ES2002a.A</td>\n",
       "      <td>4.0</td>\n",
       "      <td>0</td>\n",
       "      <td>12</td>\n",
       "      <td>13</td>\n",
       "    </tr>\n",
       "    <tr>\n",
       "      <th>1</th>\n",
       "      <td>ES2002a.A</td>\n",
       "      <td>4.0</td>\n",
       "      <td>13</td>\n",
       "      <td>27</td>\n",
       "      <td>15</td>\n",
       "    </tr>\n",
       "    <tr>\n",
       "      <th>2</th>\n",
       "      <td>ES2002a.A</td>\n",
       "      <td>4.0</td>\n",
       "      <td>28</td>\n",
       "      <td>32</td>\n",
       "      <td>5</td>\n",
       "    </tr>\n",
       "    <tr>\n",
       "      <th>3</th>\n",
       "      <td>ES2002a.A</td>\n",
       "      <td>4.0</td>\n",
       "      <td>33</td>\n",
       "      <td>41</td>\n",
       "      <td>9</td>\n",
       "    </tr>\n",
       "    <tr>\n",
       "      <th>4</th>\n",
       "      <td>ES2002a.A</td>\n",
       "      <td>5.0</td>\n",
       "      <td>42</td>\n",
       "      <td>48</td>\n",
       "      <td>7</td>\n",
       "    </tr>\n",
       "  </tbody>\n",
       "</table>\n",
       "</div>"
      ],
      "text/plain": [
       "       convo  da_type  start  end  utterance_len\n",
       "0  ES2002a.A      4.0      0   12             13\n",
       "1  ES2002a.A      4.0     13   27             15\n",
       "2  ES2002a.A      4.0     28   32              5\n",
       "3  ES2002a.A      4.0     33   41              9\n",
       "4  ES2002a.A      5.0     42   48              7"
      ]
     },
     "execution_count": 63,
     "metadata": {},
     "output_type": "execute_result"
    }
   ],
   "source": [
    "tbl.head()"
   ]
  },
  {
   "cell_type": "code",
   "execution_count": 64,
   "metadata": {},
   "outputs": [
    {
     "data": {
      "text/plain": [
       "74"
      ]
     },
     "execution_count": 64,
     "metadata": {},
     "output_type": "execute_result"
    }
   ],
   "source": [
    "max(tbl['utterance_len'])"
   ]
  },
  {
   "cell_type": "code",
   "execution_count": 65,
   "metadata": {},
   "outputs": [
    {
     "data": {
      "text/plain": [
       "999"
      ]
     },
     "execution_count": 65,
     "metadata": {},
     "output_type": "execute_result"
    }
   ],
   "source": [
    "max(tbl['end'])"
   ]
  },
  {
   "cell_type": "code",
   "execution_count": null,
   "metadata": {},
   "outputs": [],
   "source": []
  }
 ],
 "metadata": {
  "kernelspec": {
   "display_name": "Python 3",
   "language": "python",
   "name": "python3"
  },
  "language_info": {
   "codemirror_mode": {
    "name": "ipython",
    "version": 3
   },
   "file_extension": ".py",
   "mimetype": "text/x-python",
   "name": "python",
   "nbconvert_exporter": "python",
   "pygments_lexer": "ipython3",
   "version": "3.6.6"
  }
 },
 "nbformat": 4,
 "nbformat_minor": 2
}
