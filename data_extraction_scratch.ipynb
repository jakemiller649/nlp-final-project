{
 "cells": [
  {
   "cell_type": "code",
   "execution_count": 1,
   "metadata": {},
   "outputs": [],
   "source": [
    "import os\n",
    "import xml.etree.ElementTree as ET\n",
    "import re\n",
    "import numpy as np\n",
    "import pandas as pd"
   ]
  },
  {
   "cell_type": "code",
   "execution_count": null,
   "metadata": {},
   "outputs": [],
   "source": [
    "# when I initiate 'corpus,' it reads all splits it, \n",
    "\n",
    "class Corpus:\n",
    "    # read in all convs\n",
    "    # pad utterances\n",
    "    # pad convos\n",
    "    # split into train and test (seed)\n",
    "    # create vocab for train\n",
    "    # create pre-trained embedding matrix\n",
    "    # https://blog.keras.io/using-pre-trained-word-embeddings-in-a-keras-model.html\n",
    "    \n",
    "    # create generator function\n",
    "\n",
    "    class Word:\n",
    "\n",
    "        # file\n",
    "        # id\n",
    "        # start time, \n",
    "        # end time, because fuck it just in case\n",
    "        # duration\n",
    "        pass\n",
    "\n",
    "    class Utterance:\n",
    "        # len\n",
    "        # label\n",
    "        # spit out sentence\n",
    "        \n",
    "        pass\n",
    "    \n",
    "    class Conversation:\n",
    "        \n",
    "        # file name\n",
    "        # max utterance length\n",
    "        # convo length\n",
    "        # utterances (list)\n",
    "        # labels\n",
    "        # unique words\n",
    "\n",
    "        pass\n",
    "\n",
    "\n",
    "    def __init__(filedir):\n",
    "        \"\"\"Load corpus from file\"\"\"\n",
    "        \n",
    "        for file in filedir:\n",
    "            if file.endswith(\"dialog-act.xml\"):\n",
    "                with open(wd + da_dir + \"\\\\\" + file) as infile:\n",
    "                    # open file, parse xml\n",
    "                    tree = ET.parse(infile)\n",
    "                    root = tree.getroot()\n",
    "\n",
    "                for leaf in root:\n",
    "\n",
    "                    das['convo'].append(file.replace(\".dialog-act.xml\", \"\"))\n",
    "\n",
    "                    if len(leaf) == 2:\n",
    "                        # the da type is a string, the digit always at the end\n",
    "                        das['da_type'].append(int(leaf[0].attrib['href'][-2]))\n",
    "                        b = 1\n",
    "                    else:\n",
    "                        das['da_type'].append(np.NaN)\n",
    "                        b = 0\n",
    "\n",
    "                    # note start and end points\n",
    "                    if \"..\" in leaf[b].attrib['href']:\n",
    "                        start, end = leaf[b].attrib['href'].split(\"..\")\n",
    "                        s = re.search(r'words[0-9]{1,3}', start)\n",
    "                        e = re.search(r'words[0-9]{1,3}', end)\n",
    "\n",
    "\n",
    "                        das['start'].append(int(s[0][5:]))\n",
    "                        das['end'].append(int(e[0][5:]))\n",
    "\n",
    "                        das['utterance_len'].append(1 + int(e[0][5:]) - int(s[0][5:]))\n",
    "\n",
    "                    else:\n",
    "                        start = leaf[b].attrib['href']\n",
    "                        s = re.search(r'words[0-9]{1,3}', start)\n",
    "\n",
    "                        # start and end are the same\n",
    "                        das['start'].append(int(s[0][5:]))\n",
    "                        das['end'].append(int(s[0][5:]))\n",
    "                        das['utterance_len'].append(1)\n",
    "\n"
   ]
  },
  {
   "cell_type": "code",
   "execution_count": 34,
   "metadata": {},
   "outputs": [],
   "source": [
    "with open(\"data/dialogueActs/ES2002a.A.dialog-act.xml\") as infile:\n",
    "    tree = ET.parse(infile)\n",
    "    root = tree.getroot()"
   ]
  },
  {
   "cell_type": "code",
   "execution_count": 11,
   "metadata": {},
   "outputs": [
    {
     "data": {
      "text/plain": [
       "48"
      ]
     },
     "execution_count": 11,
     "metadata": {},
     "output_type": "execute_result"
    }
   ],
   "source": [
    "len(root)"
   ]
  },
  {
   "cell_type": "code",
   "execution_count": 23,
   "metadata": {},
   "outputs": [
    {
     "data": {
      "text/plain": [
       "'da-types.xml#id(ami_da_4)'"
      ]
     },
     "execution_count": 23,
     "metadata": {},
     "output_type": "execute_result"
    }
   ],
   "source": [
    "root[0][0].attrib['href']"
   ]
  },
  {
   "cell_type": "code",
   "execution_count": 15,
   "metadata": {},
   "outputs": [],
   "source": [
    "wd = os.getcwd()\n",
    "da_dir = \"\\\\data\\\\dialogueActs\"\n",
    "\n",
    "das = {\"convo\":[], \"da_type\":[], \"start\":[], \"end\":[], \"utterance_len\":[]}\n",
    "\n",
    "for file in os.listdir(wd + da_dir):\n",
    "    if file.endswith(\"dialog-act.xml\"):\n",
    "        \n",
    "        # open file\n",
    "        with open(wd + da_dir + \"\\\\\" + file) as infile:\n",
    "            \n",
    "            # parse xml\n",
    "            tree = ET.parse(infile)\n",
    "            root = tree.getroot()\n",
    "        \n",
    "        for leaf in root:\n",
    "            \n",
    "            das['convo'].append(file.replace(\".dialog-act.xml\", \"\"))\n",
    "\n",
    "            if len(leaf) == 2:\n",
    "                # the da type is a string, the digit always at the end\n",
    "                das['da_type'].append(int(leaf[0].attrib['href'][-2]))\n",
    "                b = 1\n",
    "            else:\n",
    "                das['da_type'].append(np.NaN)\n",
    "                b = 0\n",
    "\n",
    "            # note start and end points\n",
    "            if \"..\" in leaf[b].attrib['href']:\n",
    "                start, end = leaf[b].attrib['href'].split(\"..\")\n",
    "                s = re.search(r'words[0-9]{1,4}', start)\n",
    "                e = re.search(r'words[0-9]{1,4}', end)\n",
    "\n",
    "\n",
    "                das['start'].append(int(s[0][5:]))\n",
    "                das['end'].append(int(e[0][5:]))\n",
    "                \n",
    "                das['utterance_len'].append(1 + int(e[0][5:]) - int(s[0][5:]))\n",
    "\n",
    "            else:\n",
    "                start = leaf[b].attrib['href']\n",
    "                s = re.search(r'words[0-9]{1,4}', start)\n",
    "\n",
    "                # start and end are the same\n",
    "                das['start'].append(int(s[0][5:]))\n",
    "                das['end'].append(int(s[0][5:]))\n",
    "                das['utterance_len'].append(1)\n",
    "            \n",
    "            \n",
    "            \n",
    "        \n",
    "        # then, look up those utterances in the convo and just add those as a separate column\n",
    "        # utterance start and end times, duration"
   ]
  },
  {
   "cell_type": "code",
   "execution_count": 16,
   "metadata": {},
   "outputs": [],
   "source": [
    "tbl = pd.DataFrame(das)"
   ]
  },
  {
   "cell_type": "code",
   "execution_count": 21,
   "metadata": {},
   "outputs": [
    {
     "data": {
      "text/html": [
       "<div>\n",
       "<style scoped>\n",
       "    .dataframe tbody tr th:only-of-type {\n",
       "        vertical-align: middle;\n",
       "    }\n",
       "\n",
       "    .dataframe tbody tr th {\n",
       "        vertical-align: top;\n",
       "    }\n",
       "\n",
       "    .dataframe thead th {\n",
       "        text-align: right;\n",
       "    }\n",
       "</style>\n",
       "<table border=\"1\" class=\"dataframe\">\n",
       "  <thead>\n",
       "    <tr style=\"text-align: right;\">\n",
       "      <th></th>\n",
       "      <th>da_type</th>\n",
       "      <th>start</th>\n",
       "      <th>end</th>\n",
       "      <th>utterance_len</th>\n",
       "    </tr>\n",
       "  </thead>\n",
       "  <tbody>\n",
       "    <tr>\n",
       "      <th>count</th>\n",
       "      <td>117887.000000</td>\n",
       "      <td>117915.000000</td>\n",
       "      <td>117915.000000</td>\n",
       "      <td>117915.000000</td>\n",
       "    </tr>\n",
       "    <tr>\n",
       "      <th>mean</th>\n",
       "      <td>4.497612</td>\n",
       "      <td>986.310961</td>\n",
       "      <td>992.446720</td>\n",
       "      <td>7.135759</td>\n",
       "    </tr>\n",
       "    <tr>\n",
       "      <th>std</th>\n",
       "      <td>2.563817</td>\n",
       "      <td>779.334150</td>\n",
       "      <td>779.419908</td>\n",
       "      <td>6.678859</td>\n",
       "    </tr>\n",
       "    <tr>\n",
       "      <th>min</th>\n",
       "      <td>1.000000</td>\n",
       "      <td>0.000000</td>\n",
       "      <td>0.000000</td>\n",
       "      <td>1.000000</td>\n",
       "    </tr>\n",
       "    <tr>\n",
       "      <th>25%</th>\n",
       "      <td>3.000000</td>\n",
       "      <td>370.000000</td>\n",
       "      <td>376.000000</td>\n",
       "      <td>2.000000</td>\n",
       "    </tr>\n",
       "    <tr>\n",
       "      <th>50%</th>\n",
       "      <td>4.000000</td>\n",
       "      <td>842.000000</td>\n",
       "      <td>848.000000</td>\n",
       "      <td>5.000000</td>\n",
       "    </tr>\n",
       "    <tr>\n",
       "      <th>75%</th>\n",
       "      <td>6.000000</td>\n",
       "      <td>1424.000000</td>\n",
       "      <td>1430.000000</td>\n",
       "      <td>10.000000</td>\n",
       "    </tr>\n",
       "    <tr>\n",
       "      <th>max</th>\n",
       "      <td>9.000000</td>\n",
       "      <td>5157.000000</td>\n",
       "      <td>5157.000000</td>\n",
       "      <td>87.000000</td>\n",
       "    </tr>\n",
       "  </tbody>\n",
       "</table>\n",
       "</div>"
      ],
      "text/plain": [
       "             da_type          start            end  utterance_len\n",
       "count  117887.000000  117915.000000  117915.000000  117915.000000\n",
       "mean        4.497612     986.310961     992.446720       7.135759\n",
       "std         2.563817     779.334150     779.419908       6.678859\n",
       "min         1.000000       0.000000       0.000000       1.000000\n",
       "25%         3.000000     370.000000     376.000000       2.000000\n",
       "50%         4.000000     842.000000     848.000000       5.000000\n",
       "75%         6.000000    1424.000000    1430.000000      10.000000\n",
       "max         9.000000    5157.000000    5157.000000      87.000000"
      ]
     },
     "execution_count": 21,
     "metadata": {},
     "output_type": "execute_result"
    }
   ],
   "source": [
    "tbl.describe()"
   ]
  },
  {
   "cell_type": "code",
   "execution_count": 18,
   "metadata": {},
   "outputs": [
    {
     "data": {
      "text/plain": [
       "87"
      ]
     },
     "execution_count": 18,
     "metadata": {},
     "output_type": "execute_result"
    }
   ],
   "source": [
    "max(tbl['utterance_len'])"
   ]
  },
  {
   "cell_type": "code",
   "execution_count": 19,
   "metadata": {},
   "outputs": [
    {
     "data": {
      "text/plain": [
       "5157"
      ]
     },
     "execution_count": 19,
     "metadata": {},
     "output_type": "execute_result"
    }
   ],
   "source": [
    "max(tbl['end'])"
   ]
  },
  {
   "cell_type": "code",
   "execution_count": 20,
   "metadata": {},
   "outputs": [
    {
     "data": {
      "text/html": [
       "<div>\n",
       "<style scoped>\n",
       "    .dataframe tbody tr th:only-of-type {\n",
       "        vertical-align: middle;\n",
       "    }\n",
       "\n",
       "    .dataframe tbody tr th {\n",
       "        vertical-align: top;\n",
       "    }\n",
       "\n",
       "    .dataframe thead th {\n",
       "        text-align: right;\n",
       "    }\n",
       "</style>\n",
       "<table border=\"1\" class=\"dataframe\">\n",
       "  <thead>\n",
       "    <tr style=\"text-align: right;\">\n",
       "      <th></th>\n",
       "      <th>convo</th>\n",
       "      <th>da_type</th>\n",
       "      <th>start</th>\n",
       "      <th>end</th>\n",
       "      <th>utterance_len</th>\n",
       "    </tr>\n",
       "  </thead>\n",
       "  <tbody>\n",
       "  </tbody>\n",
       "</table>\n",
       "</div>"
      ],
      "text/plain": [
       "Empty DataFrame\n",
       "Columns: [convo, da_type, start, end, utterance_len]\n",
       "Index: []"
      ]
     },
     "execution_count": 20,
     "metadata": {},
     "output_type": "execute_result"
    }
   ],
   "source": [
    "tbl[tbl.utterance_len < 0]"
   ]
  },
  {
   "cell_type": "code",
   "execution_count": 22,
   "metadata": {},
   "outputs": [
    {
     "data": {
      "text/plain": [
       "count        117915\n",
       "unique          556\n",
       "top       TS3005d.B\n",
       "freq            742\n",
       "Name: convo, dtype: object"
      ]
     },
     "execution_count": 22,
     "metadata": {},
     "output_type": "execute_result"
    }
   ],
   "source": [
    "tbl['convo'].describe()"
   ]
  },
  {
   "cell_type": "code",
   "execution_count": null,
   "metadata": {},
   "outputs": [],
   "source": []
  }
 ],
 "metadata": {
  "kernelspec": {
   "display_name": "Python 3",
   "language": "python",
   "name": "python3"
  },
  "language_info": {
   "codemirror_mode": {
    "name": "ipython",
    "version": 3
   },
   "file_extension": ".py",
   "mimetype": "text/x-python",
   "name": "python",
   "nbconvert_exporter": "python",
   "pygments_lexer": "ipython3",
   "version": "3.6.6"
  }
 },
 "nbformat": 4,
 "nbformat_minor": 2
}
